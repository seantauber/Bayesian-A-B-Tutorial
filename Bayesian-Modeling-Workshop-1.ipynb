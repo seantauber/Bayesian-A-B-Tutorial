{
 "cells": [
  {
   "cell_type": "markdown",
   "metadata": {},
   "source": [
    "# Bayesian A/B Testing\n",
    "### With examples adapted from \"Bayesian Methods for Hackers\" by Cameron Davidson-Pilon"
   ]
  },
  {
   "cell_type": "markdown",
   "metadata": {},
   "source": [
    "### Problem\n",
    "We have two Web site designs, called A and B. When a user lands on our Web site, we randomly show them design A or B, and record this assignment. After enough visitors have done this, we join this dataset against some metric of interest (typically, for Web sites, we are interested in a purchase or signup).\n",
    "\n",
    "#### Which site has the highest conversion rate?"
   ]
  },
  {
   "cell_type": "markdown",
   "metadata": {},
   "source": [
    "### Data"
   ]
  },
  {
   "cell_type": "code",
   "execution_count": 2,
   "metadata": {
    "collapsed": true
   },
   "outputs": [],
   "source": [
    "visitors_to_A = 2600\n",
    "visitors_to_B = 1275\n",
    "\n",
    "conversions_from_A = 240\n",
    "conversions_from_B = 150"
   ]
  },
  {
   "cell_type": "markdown",
   "metadata": {},
   "source": [
    "### Solution: Beta-Binomial model\n",
    "Estimate the actual conversion rates $p_a$ and $p_b$"
   ]
  },
  {
   "cell_type": "code",
   "execution_count": 3,
   "metadata": {
    "collapsed": true
   },
   "outputs": [],
   "source": [
    "# Setup the environment\n",
    "%matplotlib inline\n",
    "from IPython.core.pylabtools import figsize\n",
    "import numpy as np\n",
    "from matplotlib import pyplot as plt\n",
    "# figsize(11, 9)"
   ]
  },
  {
   "cell_type": "markdown",
   "metadata": {},
   "source": [
    "### Prior\n",
    "\n",
    "$p_a$, $p_b$ are both unknown variables in the interval $(0,1)$. Our priors for these come from a flat beta distribution. So each unknown conversion rate is modeled as a sample from a flat beta distribution:\n",
    "\n",
    "$p_a \\sim Beta(1 , 1) \\qquad p_b \\sim Beta(1 , 1)$\n",
    "\n",
    "The prior probability of each conversion rate is:\n",
    "\n",
    "$P(p_a) = Beta(p_a \\mid 1,1) \\qquad P(p_b) = Beta(p_b \\mid 1,1)$"
   ]
  },
  {
   "cell_type": "code",
   "execution_count": 4,
   "metadata": {
    "collapsed": false
   },
   "outputs": [
    {
     "data": {
      "text/plain": [
       "<matplotlib.text.Text at 0x10c4d2590>"
      ]
     },
     "execution_count": 4,
     "metadata": {},
     "output_type": "execute_result"
    },
    {
     "data": {
      "image/png": "[encoded data removed]",
      "text/plain": [
       "<matplotlib.figure.Figure at 0x10a9977d0>"
      ]
     },
     "metadata": {},
     "output_type": "display_data"
    }
   ],
   "source": [
    "from scipy.stats import beta\n",
    "uniform_beta_samples = beta(1,1).rvs(20000)\n",
    "plt.hist(uniform_beta_samples, histtype=\"stepfilled\", bins=70, normed=True, alpha=0.65);\n",
    "plt.title(\"Beta Prior\")"
   ]
  },
  {
   "cell_type": "markdown",
   "metadata": {},
   "source": [
    "### Likelihood\n",
    "\n",
    "#### The observed data can be modeled as a sample from a binomial distribution. \n",
    "$conversions_a \\sim binom(N=visitors_a , p=p_a)$\n",
    "\n",
    "#### The likelihood of the observed data is\n",
    "$P(conversions \\mid N , p) = binom(conversions_a \\mid N=visitors_a , p=p_a)$\n"
   ]
  },
  {
   "cell_type": "markdown",
   "metadata": {},
   "source": [
    "### Posterior = Likelihood $\\times$ Prior\n",
    "#### The posterior estimate for $p_a$ using Bayes rule:\n",
    "\n",
    "$P(p_a \\mid conversions_a, visitors_a) \\propto P(conversions_a \\mid visitors_a, p_a) \\times P(p_a)$\n",
    "\n",
    "#### Substituting in the distributions leads to:\n",
    "\n",
    "$P(conversions_a \\mid visitors_a, p_a) \\times P(p_a) = binom(conversions_a \\mid N=visitors_a, p=p_a) \\times beta(p_a \\mid 1,1)$\n",
    "\n",
    "#### beta-binomial are a conjugate pair and have the following closed form posterior:\n",
    "\n",
    "$binom(conversions_a \\mid N=visitors_a, p=p_a) \\times beta(p_a \\mid 1,1) = beta(1+conversions_a, 1+(visitors_a-conversions_a))$\n",
    "\n",
    "#### Therefore the simplified posterior for $p_a$ is:\n",
    "$P(p_a \\mid conversions_a, visitors_a) \\propto beta(1+conversions_a, 1+(visitors_a-conversions_a))$"
   ]
  },
  {
   "cell_type": "code",
   "execution_count": 5,
   "metadata": {
    "collapsed": false
   },
   "outputs": [
    {
     "data": {
      "image/png": "[encoded data removed]",
      "text/plain": [
       "<matplotlib.figure.Figure at 0x103010d50>"
      ]
     },
     "metadata": {},
     "output_type": "display_data"
    }
   ],
   "source": [
    "# Define the posterior distributions\n",
    "posterior_A = beta(1 + conversions_from_A, 1 + visitors_to_A-conversions_from_A)\n",
    "posterior_B = beta(1 + conversions_from_B, 1 + visitors_to_B-conversions_from_B)\n",
    "\n",
    "# Draw samples from the posterior distributions\n",
    "samples = 20000\n",
    "samples_posterior_A = posterior_A.rvs(samples)\n",
    "samples_posterior_B = posterior_B.rvs(samples)\n",
    "\n",
    "# Plot the samples from the posterior distributions\n",
    "plt.hist(samples_posterior_A, histtype=\"stepfilled\", bins=50, normed=True, \n",
    "         alpha=0.85, color=\"#467821\", label=\"posterior of $p_A$\");\n",
    "plt.hist(samples_posterior_B, histtype=\"stepfilled\", bins=50, normed=True, \n",
    "         alpha=0.85, color=\"#A60628\", label=\"posterior of $p_B$\");\n",
    "plt.legend();"
   ]
  },
  {
   "cell_type": "code",
   "execution_count": 6,
   "metadata": {
    "collapsed": false
   },
   "outputs": [
    {
     "name": "stdout",
     "output_type": "stream",
     "text": [
      "The probability that A has higher conversion rate than B is 0.00655\n"
     ]
    }
   ],
   "source": [
    "agb = (samples_posterior_A > samples_posterior_B).mean()\n",
    "print \"The probability that A has higher conversion rate than B is %s\" % agb"
   ]
  },
  {
   "cell_type": "code",
   "execution_count": 7,
   "metadata": {
    "collapsed": false
   },
   "outputs": [
    {
     "name": "stdout",
     "output_type": "stream",
     "text": [
      "The probability that A has lower conversion rate than B is 0.99345\n"
     ]
    }
   ],
   "source": [
    "alb = (samples_posterior_A < samples_posterior_B).mean()\n",
    "print \"The probability that A has lower conversion rate than B is %s\" % alb"
   ]
  },
  {
   "cell_type": "code",
   "execution_count": 8,
   "metadata": {
    "collapsed": false
   },
   "outputs": [
    {
     "data": {
      "image/png": "[encoded data removed]",
      "text/plain": [
       "<matplotlib.figure.Figure at 0x10fada150>"
      ]
     },
     "metadata": {},
     "output_type": "display_data"
    }
   ],
   "source": [
    "diff = samples_posterior_A-samples_posterior_B\n",
    "plt.hist(diff, histtype=\"stepfilled\", bins=50, normed=True, \n",
    "         alpha=0.85, color=\"#7A68A6\", label=\"$p_A - p_B$\");\n",
    "plt.legend();"
   ]
  },
  {
   "cell_type": "markdown",
   "metadata": {
    "collapsed": true
   },
   "source": [
    "## Generalizing beyond A/B to multiple options"
   ]
  },
  {
   "cell_type": "markdown",
   "metadata": {},
   "source": [
    "A common goal of Internet companies is not only to gain signups, but also to optimize which signup plan the user might select. For example, a business might want new customers to choose a higher-priced plan if presented with two or more plan options.\n",
    "Suppose users are shown two different versions of this pricing page, and we’d like to determine the expected revenue we receive per impression.\n",
    "\n",
    "<p>\n",
    "Each page has 3 price plan options: \\$79, \\$49 and \\$29."
   ]
  },
  {
   "cell_type": "markdown",
   "metadata": {},
   "source": [
    "For the moment, ignore the A/B test and consider the analysis for a single Web page style. In a completely transparent world, where we knew everything, we could calculate this expected value for this fictional company:\n",
    "\n",
    "$E[R] = 79p_79 + 49p_49 + 25p_25 + 0p_0$\n",
    "\n",
    "where p79 is the probability of selecting the \\$79 pricing plan, and so on. I’ve also included a fictional $0 pricing plan for someone who doesn’t pick a plan. This is added so that the probabilities sum to 1.\n",
    "\n",
    "$p_79 +p_49 +p_25 +p_0 =1$"
   ]
  },
  {
   "cell_type": "markdown",
   "metadata": {},
   "source": [
    "### Data"
   ]
  },
  {
   "cell_type": "code",
   "execution_count": 10,
   "metadata": {
    "collapsed": false
   },
   "outputs": [],
   "source": [
    "# Page A\n",
    "N_A    = 1000\n",
    "N_A_79 = 10\n",
    "N_A_49 = 46\n",
    "N_A_25 = 80\n",
    "N_A_0  = N_A - (N_A_79 + N_A_49 + N_A_49)\n",
    "observations_A = np.array([N_A_79, N_A_49, N_A_25, N_A_0])\n",
    "\n",
    "# Page B\n",
    "N_B    = 2000\n",
    "N_B_79 = 45\n",
    "N_B_49 = 84\n",
    "N_B_25 = 200\n",
    "N_B_0  = N_B - (N_B_79 + N_B_49 + N_B_49)\n",
    "observations_B = np.array([N_B_79, N_B_49, N_B_25, N_B_0])"
   ]
  },
  {
   "cell_type": "markdown",
   "metadata": {},
   "source": [
    "### The Dirichlet-Multinomial model"
   ]
  },
  {
   "cell_type": "code",
   "execution_count": 12,
   "metadata": {
    "collapsed": true
   },
   "outputs": [],
   "source": [
    "from scipy.stats import dirichlet"
   ]
  },
  {
   "cell_type": "markdown",
   "metadata": {},
   "source": [
    "#### Analysis of just page A"
   ]
  },
  {
   "cell_type": "code",
   "execution_count": 25,
   "metadata": {
    "collapsed": false
   },
   "outputs": [],
   "source": [
    "prior_parameters = np.array([1,1,1,1])\n",
    "\n",
    "posterior_samples_A = dirichlet.rvs(prior_parameters_A + observations_A,\n",
    "size=10000)"
   ]
  },
  {
   "cell_type": "markdown",
   "metadata": {},
   "source": [
    "#### Posterior Density function for Page A:"
   ]
  },
  {
   "cell_type": "code",
   "execution_count": 45,
   "metadata": {
    "collapsed": false
   },
   "outputs": [
    {
     "data": {
      "image/png": "[encoded data removed]",
      "text/plain": [
       "<matplotlib.figure.Figure at 0x11129d310>"
      ]
     },
     "metadata": {},
     "output_type": "display_data"
    }
   ],
   "source": [
    "for i, label in enumerate(['p_79', 'p_49', 'p_25', 'p_0']): ax = plt.hist(posterior_samples_A[:,i], bins=50,\n",
    "                   label=label, histtype='stepfilled')\n",
    "plt.xlabel('Value')\n",
    "plt.ylabel('Density')\n",
    "plt.title(\"Page A - Posterior distributions of the probability of\\nselecting different prices\")\n",
    "plt.legend();"
   ]
  },
  {
   "cell_type": "markdown",
   "metadata": {},
   "source": [
    "#### Consider expected revenue using a linear value function"
   ]
  },
  {
   "cell_type": "code",
   "execution_count": 23,
   "metadata": {
    "collapsed": true
   },
   "outputs": [],
   "source": [
    "def expected_revenue(P):\n",
    "    return 79*P[:,0] + 49*P[:,1] + 25*P[:,2] + 0*P[:,3]"
   ]
  },
  {
   "cell_type": "code",
   "execution_count": 27,
   "metadata": {
    "collapsed": false
   },
   "outputs": [
    {
     "data": {
      "image/png": "[encoded data removed]",
      "text/plain": [
       "<matplotlib.figure.Figure at 0x1116ed2d0>"
      ]
     },
     "metadata": {},
     "output_type": "display_data"
    }
   ],
   "source": [
    "posterior_expected_revenue_A = expected_revenue(posterior_samples_A)\n",
    "plt.hist(posterior_expected_revenue_A, histtype='stepfilled',\n",
    "        label='Expected Revenue A', bins=50)\n",
    "plt.xlabel('Value')\n",
    "plt.ylabel('Density')\n",
    "plt.title(\"Posterior distributions of the expected revenue\")\n",
    "plt.legend();"
   ]
  },
  {
   "cell_type": "markdown",
   "metadata": {},
   "source": [
    "The expected revenue is likely between \\$4 and \\$6, and unlikely to be outside this range."
   ]
  },
  {
   "cell_type": "markdown",
   "metadata": {},
   "source": [
    "### Now consider the expected revenue for Page B compared to A"
   ]
  },
  {
   "cell_type": "code",
   "execution_count": null,
   "metadata": {
    "collapsed": true
   },
   "outputs": [],
   "source": [
    "posterior_samples_B = dirichlet.rvs(prior_parameters + observations_B,\n",
    "                                   size=10000)\n",
    "posterior_expected_revenue_A = expected_revenue(posterior_samples_A)\n",
    "posterior_expected_revenue_B = expected_revenue(posterior_samples_B)"
   ]
  },
  {
   "cell_type": "code",
   "execution_count": 43,
   "metadata": {
    "collapsed": false
   },
   "outputs": [
    {
     "data": {
      "image/png": "[encoded data removed]",
      "text/plain": [
       "<matplotlib.figure.Figure at 0x11058a110>"
      ]
     },
     "metadata": {},
     "output_type": "display_data"
    }
   ],
   "source": [
    "for i, label in enumerate(['p_79', 'p_49', 'p_25', 'p_0']): ax = plt.hist(posterior_samples_B[:,i], bins=50,\n",
    "                   label=label, histtype='stepfilled')\n",
    "plt.xlabel('Value')\n",
    "plt.ylabel('Density')\n",
    "plt.title(\"Page B - Posterior distributions of the probability of \\n selecting different prices\")\n",
    "plt.legend();"
   ]
  },
  {
   "cell_type": "code",
   "execution_count": 44,
   "metadata": {
    "collapsed": false
   },
   "outputs": [
    {
     "data": {
      "image/png": "[encoded data removed]",
      "text/plain": [
       "<matplotlib.figure.Figure at 0x1104bd990>"
      ]
     },
     "metadata": {},
     "output_type": "display_data"
    }
   ],
   "source": [
    "plt.hist(posterior_expected_revenue_A, histtype='stepfilled',\n",
    "        label='expected revenue of A', bins=50)\n",
    "plt.hist(posterior_expected_revenue_B, histtype='stepfilled',\n",
    "        label='expected revenue of B', bins=50, alpha=0.8)\n",
    "plt.xlabel('Value')\n",
    "plt.ylabel('Density')\n",
    "plt.title(\"Posterior distribution of the expected revenue \\n between pages $A$ and $B$\")\n",
    "plt.legend();"
   ]
  },
  {
   "cell_type": "code",
   "execution_count": 35,
   "metadata": {
    "collapsed": false
   },
   "outputs": [
    {
     "name": "stdout",
     "output_type": "stream",
     "text": [
      "Probability that page B has a higher revenue than page A: 0.964\n"
     ]
    }
   ],
   "source": [
    "p_b_greaterthan_a = (posterior_expected_revenue_B > posterior_expected_revenue_A).mean()\n",
    "print \"Probability that page B has a higher revenue than page A: %.3f\"%p_b_greaterthan_a"
   ]
  },
  {
   "cell_type": "markdown",
   "metadata": {},
   "source": [
    "#### Posterior of difference between EV of pages"
   ]
  },
  {
   "cell_type": "code",
   "execution_count": 41,
   "metadata": {
    "collapsed": false
   },
   "outputs": [
    {
     "data": {
      "image/png": "[encoded data removed]",
      "text/plain": [
       "<matplotlib.figure.Figure at 0x111396510>"
      ]
     },
     "metadata": {},
     "output_type": "display_data"
    }
   ],
   "source": [
    "posterior_diff = posterior_expected_revenue_B - posterior_expected_revenue_A\n",
    "plt.hist(posterior_diff, histtype='stepfilled', color='#7A68A6',\n",
    "        label='difference in revenue between B and A', bins=50)\n",
    "plt.vlines(0, 0, 700, linestyles='--')\n",
    "plt.xlabel('Value')\n",
    "plt.ylabel('Density')\n",
    "plt.title(\"Posterior distribution of the delta between \\n expected revenues of pages $A$ and $B$\")\n",
    "plt.legend();"
   ]
  },
  {
   "cell_type": "markdown",
   "metadata": {},
   "source": [
    "Looking at this posterior, we see that there is about a 50% chance that the difference is more than \\$1, and possibly even larger than \\$2. And if we are wrong about our choice of B (which is possible), we probably won’t lose much: The distribution doesn’t extend much past −\\$0.50."
   ]
  },
  {
   "cell_type": "code",
   "execution_count": null,
   "metadata": {
    "collapsed": true
   },
   "outputs": [],
   "source": []
  }
 ],
 "metadata": {
  "anaconda-cloud": {},
  "kernelspec": {
   "display_name": "Python [conda root]",
   "language": "python",
   "name": "conda-root-py"
  },
  "language_info": {
   "codemirror_mode": {
    "name": "ipython",
    "version": 2
   },
   "file_extension": ".py",
   "mimetype": "text/x-python",
   "name": "python",
   "nbconvert_exporter": "python",
   "pygments_lexer": "ipython2",
   "version": "2.7.12"
  }
 },
 "nbformat": 4,
 "nbformat_minor": 1
}
